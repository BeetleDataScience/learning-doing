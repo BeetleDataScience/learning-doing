{
 "cells": [
  {
   "cell_type": "code",
   "execution_count": 21,
   "id": "ada794ff-e5e1-42c2-80ac-f8262ea37d97",
   "metadata": {},
   "outputs": [],
   "source": [
    "# asignaciones multiplies"
   ]
  },
  {
   "cell_type": "code",
   "execution_count": 19,
   "id": "74e80756-fde8-4fbe-8e7a-b1bd62a899bb",
   "metadata": {},
   "outputs": [],
   "source": [
    "nombre = \"Cristian\""
   ]
  },
  {
   "cell_type": "code",
   "execution_count": 3,
   "id": "2cf4195a-9364-4076-9349-a9ac7998a5d9",
   "metadata": {},
   "outputs": [],
   "source": [
    "edad = 24"
   ]
  },
  {
   "cell_type": "code",
   "execution_count": 5,
   "id": "2034bbc2-dc25-48f8-8e37-baebf87f7e32",
   "metadata": {},
   "outputs": [],
   "source": [
    "atractivo = True"
   ]
  },
  {
   "cell_type": "code",
   "execution_count": 7,
   "id": "b0ded4de-17c8-4928-8520-4f39594c2c94",
   "metadata": {},
   "outputs": [
    {
     "name": "stdout",
     "output_type": "stream",
     "text": [
      "Cristian\n",
      "24\n",
      "True\n"
     ]
    }
   ],
   "source": [
    "print(nombre)\n",
    "print(edad)\n",
    "print(atractivo)"
   ]
  },
  {
   "cell_type": "code",
   "execution_count": 11,
   "id": "ccf2633a-964e-425b-bb8c-cfaf58cad693",
   "metadata": {},
   "outputs": [],
   "source": [
    "nombre, edad, atractivo = \"Cristian\", 24, True"
   ]
  },
  {
   "cell_type": "code",
   "execution_count": 13,
   "id": "907c99c1-8121-405e-9de0-e6a5a519335a",
   "metadata": {},
   "outputs": [],
   "source": [
    "nombre1 = nombre2 = nombre3 = nombre4 = 10"
   ]
  },
  {
   "cell_type": "code",
   "execution_count": 15,
   "id": "0a71ce6e-f9cd-4cf9-8012-ead38652b9cd",
   "metadata": {},
   "outputs": [
    {
     "name": "stdout",
     "output_type": "stream",
     "text": [
      "10\n",
      "10\n",
      "10\n",
      "10\n"
     ]
    }
   ],
   "source": [
    "print(nombre1)\n",
    "print(nombre2)\n",
    "print(nombre3)\n",
    "print(nombre4)"
   ]
  },
  {
   "cell_type": "code",
   "execution_count": 17,
   "id": "d4b0fab4-578b-4ddc-94c7-fb8d8af55871",
   "metadata": {},
   "outputs": [],
   "source": [
    "#metodos de cadena de texto "
   ]
  },
  {
   "cell_type": "code",
   "execution_count": 23,
   "id": "99deceb4-9e0e-42b6-956d-b3100daad28b",
   "metadata": {},
   "outputs": [],
   "source": [
    "nombre = \"Cristian\""
   ]
  },
  {
   "cell_type": "code",
   "execution_count": 27,
   "id": "908c3db3-3fde-4d7c-9245-b3345e57ff87",
   "metadata": {},
   "outputs": [
    {
     "name": "stdout",
     "output_type": "stream",
     "text": [
      "8\n"
     ]
    }
   ],
   "source": [
    "print(len(nombre))"
   ]
  },
  {
   "cell_type": "code",
   "execution_count": 31,
   "id": "b7952ac8-3d65-4fec-9b87-df5f92f1e437",
   "metadata": {},
   "outputs": [
    {
     "name": "stdout",
     "output_type": "stream",
     "text": [
      "4\n"
     ]
    }
   ],
   "source": [
    "print(nombre.find(\"t\"))"
   ]
  },
  {
   "cell_type": "code",
   "execution_count": 33,
   "id": "60391099-0481-40b6-a707-c52e39f1b153",
   "metadata": {},
   "outputs": [],
   "source": [
    "nombre = \"cristian\""
   ]
  },
  {
   "cell_type": "code",
   "execution_count": 37,
   "id": "317394ee-e293-4e26-addf-e8876e6dcf43",
   "metadata": {},
   "outputs": [
    {
     "name": "stdout",
     "output_type": "stream",
     "text": [
      "Cristian\n"
     ]
    }
   ],
   "source": [
    "print(nombre.capitalize())"
   ]
  },
  {
   "cell_type": "code",
   "execution_count": 41,
   "id": "20a3af33-304e-4ed3-a43b-c608fd84db25",
   "metadata": {},
   "outputs": [
    {
     "name": "stdout",
     "output_type": "stream",
     "text": [
      "CRISTIAN\n"
     ]
    }
   ],
   "source": [
    "print(nombre.upper())"
   ]
  },
  {
   "cell_type": "code",
   "execution_count": 43,
   "id": "a25ec90b-b896-4987-9dc9-8fccbdd77f21",
   "metadata": {},
   "outputs": [],
   "source": [
    "nombre = \"CRISTIAN\" "
   ]
  },
  {
   "cell_type": "code",
   "execution_count": 47,
   "id": "2f7bf75b-4b05-43b1-b74b-4f9e6edd209b",
   "metadata": {},
   "outputs": [
    {
     "name": "stdout",
     "output_type": "stream",
     "text": [
      "cristian\n"
     ]
    }
   ],
   "source": [
    "print(nombre.lower())"
   ]
  },
  {
   "cell_type": "code",
   "execution_count": 55,
   "id": "49864235-7fe3-44e7-8b63-b3f818a26bbb",
   "metadata": {},
   "outputs": [],
   "source": [
    "edad = \"28\""
   ]
  },
  {
   "cell_type": "code",
   "execution_count": 61,
   "id": "5e6a3c56-20f4-442b-8a33-1bb87a47c797",
   "metadata": {},
   "outputs": [
    {
     "name": "stdout",
     "output_type": "stream",
     "text": [
      "False\n",
      "True\n"
     ]
    }
   ],
   "source": [
    "# isdigit se utiliza para saber si se esta utilizando digitos numericos en una tipo de data STR\n",
    "print(nombre.isdigit())\n",
    "print(edad.isdigit())"
   ]
  },
  {
   "cell_type": "code",
   "execution_count": 63,
   "id": "63690f00-3be5-44aa-8d6f-5bbbe800c261",
   "metadata": {},
   "outputs": [
    {
     "name": "stdout",
     "output_type": "stream",
     "text": [
      "2\n"
     ]
    }
   ],
   "source": [
    "# count, nos sirve para contar algun caracter en especifico en nuestra cadena de texto \n",
    "print(nombre.count(\"I\"))"
   ]
  },
  {
   "cell_type": "code",
   "execution_count": 67,
   "id": "50dd4fde-ef9f-43a1-8896-330cc5057e48",
   "metadata": {},
   "outputs": [
    {
     "name": "stdout",
     "output_type": "stream",
     "text": [
      "PRISTIAN\n"
     ]
    }
   ],
   "source": [
    "#replace se utiliza para reemplazar caracteres por otros \n",
    "print(nombre.replace(\"C\", \"P\"))"
   ]
  },
  {
   "cell_type": "code",
   "execution_count": 69,
   "id": "7f74ab8b-d4dd-4c43-9bad-02ec36d61e6c",
   "metadata": {},
   "outputs": [
    {
     "name": "stdout",
     "output_type": "stream",
     "text": [
      "CRISTIANCRISTIANCRISTIANCRISTIANCRISTIANCRISTIANCRISTIANCRISTIANCRISTIANCRISTIAN\n"
     ]
    }
   ],
   "source": [
    "print(nombre*10)"
   ]
  },
  {
   "cell_type": "code",
   "execution_count": 73,
   "id": "f1e16a04-f9ee-49c7-9c06-37c669b7a393",
   "metadata": {},
   "outputs": [],
   "source": [
    "# convertir tipo de datos \n",
    "x = 1\n",
    "y = 2.0\n",
    "z = \"3\""
   ]
  },
  {
   "cell_type": "code",
   "execution_count": 79,
   "id": "53e4ae95-72b3-4657-9b65-dc19a407e28c",
   "metadata": {},
   "outputs": [
    {
     "name": "stdout",
     "output_type": "stream",
     "text": [
      "<class 'int'>\n",
      "<class 'float'>\n",
      "<class 'str'>\n"
     ]
    }
   ],
   "source": [
    "print(type(x))\n",
    "print(type(y))\n",
    "print(type(z))"
   ]
  },
  {
   "cell_type": "code",
   "execution_count": 81,
   "id": "aaf92f26-5256-467c-9c58-7afd300af5a7",
   "metadata": {},
   "outputs": [],
   "source": [
    "y = int(y)\n",
    "z = int(z)"
   ]
  },
  {
   "cell_type": "code",
   "execution_count": 83,
   "id": "06917050-b08e-4f63-bfd5-7a3304ce485e",
   "metadata": {},
   "outputs": [
    {
     "name": "stdout",
     "output_type": "stream",
     "text": [
      "<class 'int'>\n",
      "<class 'int'>\n",
      "<class 'int'>\n"
     ]
    }
   ],
   "source": [
    "print(type(x))\n",
    "print(type(y))\n",
    "print(type(z))"
   ]
  },
  {
   "cell_type": "code",
   "execution_count": 1,
   "id": "1aa2793d-c9e9-47ac-9af8-464d26df7e78",
   "metadata": {},
   "outputs": [],
   "source": [
    "name = \"The BodyGuard\""
   ]
  },
  {
   "cell_type": "code",
   "execution_count": 11,
   "id": "928f12ae-0e0a-4d7a-816c-6cbc22bbf08e",
   "metadata": {},
   "outputs": [
    {
     "data": {
      "text/plain": [
       "'TeBdGad'"
      ]
     },
     "execution_count": 11,
     "metadata": {},
     "output_type": "execute_result"
    }
   ],
   "source": [
    "# nos permite buscar las letras en los intervalos señalados\n",
    "name[::2]"
   ]
  },
  {
   "cell_type": "code",
   "execution_count": 13,
   "id": "bf2ea072-c3fc-4bb9-b376-9d2bf71ace81",
   "metadata": {},
   "outputs": [
    {
     "data": {
      "text/plain": [
       "'TeB'"
      ]
     },
     "execution_count": 13,
     "metadata": {},
     "output_type": "execute_result"
    }
   ],
   "source": [
    "# En el cargo de las letas de la 0 a 5, intervalos de 2\n",
    "name[0:5:2]"
   ]
  },
  {
   "cell_type": "code",
   "execution_count": 21,
   "id": "9f80c8d4-cada-4b27-ae79-40c56c875994",
   "metadata": {},
   "outputs": [
    {
     "data": {
      "text/plain": [
       "'The BodyGuard is the best album'"
      ]
     },
     "execution_count": 21,
     "metadata": {},
     "output_type": "execute_result"
    }
   ],
   "source": [
    "statement = name + \" is the best album\"\n",
    "statement"
   ]
  },
  {
   "cell_type": "code",
   "execution_count": 27,
   "id": "79141598-5967-4e02-a2dc-7a5d873d1148",
   "metadata": {},
   "outputs": [
    {
     "name": "stdout",
     "output_type": "stream",
     "text": [
      " The BodyGuard\n",
      " is the best album\n"
     ]
    }
   ],
   "source": [
    "# Permite realizar la separacion del contecanado \n",
    "print(\" The BodyGuard\\n is the best album\")"
   ]
  },
  {
   "cell_type": "code",
   "execution_count": 33,
   "id": "c2b70b65-a2cc-4192-b890-29047761e584",
   "metadata": {},
   "outputs": [
    {
     "name": "stdout",
     "output_type": "stream",
     "text": [
      " The BodyGuard \t is the best album\n"
     ]
    }
   ],
   "source": [
    "# otra parecida, TAB\n",
    "print(\" The BodyGuard \\t is the best album\")"
   ]
  },
  {
   "cell_type": "code",
   "execution_count": 35,
   "id": "b4ec83a3-4029-4dbc-8a63-7ae6de897b66",
   "metadata": {},
   "outputs": [
    {
     "name": "stdout",
     "output_type": "stream",
     "text": [
      " The BodyGuard \\ is the best album\n"
     ]
    }
   ],
   "source": [
    "# si requieres realizar un slash en tu str \n",
    "print(\" The BodyGuard \\\\ is the best album\" )"
   ]
  },
  {
   "cell_type": "code",
   "execution_count": 37,
   "id": "69a7eaa3-6a0b-4079-b2af-eea536222710",
   "metadata": {},
   "outputs": [
    {
     "name": "stdout",
     "output_type": "stream",
     "text": [
      " The BodyGuard \\ is the best album\n"
     ]
    }
   ],
   "source": [
    "# La r le indicadara a python que el string no se procesa\n",
    "print(r\" The BodyGuard \\ is the best album\" )"
   ]
  },
  {
   "cell_type": "code",
   "execution_count": 39,
   "id": "628ec205-7a2d-460c-8f62-a0cc2b94c6cb",
   "metadata": {},
   "outputs": [
    {
     "name": "stdout",
     "output_type": "stream",
     "text": [
      "before upper: Thiller is the sixth studio\n"
     ]
    }
   ],
   "source": [
    "a = \"Thiller is the sixth studio\"\n",
    "print(\"before upper:\",a)"
   ]
  },
  {
   "cell_type": "code",
   "execution_count": 41,
   "id": "4e19a966-67ac-41c3-867f-a46c0e5d800a",
   "metadata": {},
   "outputs": [
    {
     "name": "stdout",
     "output_type": "stream",
     "text": [
      "After upper: THILLER IS THE SIXTH STUDIO\n"
     ]
    }
   ],
   "source": [
    "b = a.upper()\n",
    "print(\"After upper:\", b)"
   ]
  },
  {
   "cell_type": "code",
   "execution_count": 45,
   "id": "cf1205b5-9175-4622-a3af-f19f78e7814e",
   "metadata": {},
   "outputs": [
    {
     "data": {
      "text/plain": [
       "'The Debi Tirar Mas Fotos is the best album'"
      ]
     },
     "execution_count": 45,
     "metadata": {},
     "output_type": "execute_result"
    }
   ],
   "source": [
    "a = \"The Bodyguard is the best album\"\n",
    "b = a.replace('Bodyguard', 'Debi Tirar Mas Fotos')\n",
    "b"
   ]
  },
  {
   "cell_type": "code",
   "execution_count": 49,
   "id": "dad9d67f-74e5-45f8-99b3-226e37efb0b5",
   "metadata": {},
   "outputs": [
    {
     "data": {
      "text/plain": [
       "-1"
      ]
     },
     "execution_count": 49,
     "metadata": {},
     "output_type": "execute_result"
    }
   ],
   "source": [
    "# Si la busqueda no es posible en el string la formula dara como resultado -1\n",
    "name.find('sasakdsda')"
   ]
  },
  {
   "cell_type": "code",
   "execution_count": 51,
   "id": "8a08ee23-a1a1-425c-bb65-57bbb7ecfd24",
   "metadata": {},
   "outputs": [
    {
     "data": {
      "text/plain": [
       "['The', 'BodyGuard']"
      ]
     },
     "execution_count": 51,
     "metadata": {},
     "output_type": "execute_result"
    }
   ],
   "source": [
    "#Funcion que nos permite separar strings \n",
    "name = \"The BodyGuard\"\n",
    "split_string = (name.split())\n",
    "split_string"
   ]
  },
  {
   "cell_type": "markdown",
   "id": "ffa5e37e-c28b-4b5e-a894-303ceb139dd8",
   "metadata": {},
   "source": [
    "# RegEx"
   ]
  },
  {
   "cell_type": "code",
   "execution_count": 54,
   "id": "1ae9d72d-1383-4099-b21a-7b88830ef000",
   "metadata": {},
   "outputs": [],
   "source": [
    "import re"
   ]
  },
  {
   "cell_type": "code",
   "execution_count": 60,
   "id": "204f9df1-2edc-4216-9567-03c13e19249b",
   "metadata": {},
   "outputs": [
    {
     "name": "stdout",
     "output_type": "stream",
     "text": [
      "Match found!\n"
     ]
    }
   ],
   "source": [
    "# Otra forma de buscar en el string datos determinados\n",
    "s1 = \"The BodyGuard is the best album\"\n",
    "pattern = r\"Body\"\n",
    "result = re.search(pattern, s1)\n",
    "\n",
    "if result: \n",
    "    print(\"Match found!\")\n",
    "else: \n",
    "    print(\"Match not found.\")"
   ]
  },
  {
   "cell_type": "code",
   "execution_count": 64,
   "id": "cdeb30ba-524b-446b-a826-b9412aefa6f9",
   "metadata": {},
   "outputs": [
    {
     "name": "stdout",
     "output_type": "stream",
     "text": [
      "Phone number found: 1234567890\n"
     ]
    }
   ],
   "source": [
    "# \\d se utiliza para caracteres numeros (0-9)\n",
    "pattern = r\"\\d\\d\\d\\d\\d\\d\\d\\d\\d\\d\"\n",
    "text = \"My Phone number is 1234567890\"\n",
    "match = re.search(pattern, text)\n",
    "if match:\n",
    "    print(\"Phone number found:\", match.group())\n",
    "else:\n",
    "    print(\"No match\")"
   ]
  },
  {
   "cell_type": "code",
   "execution_count": 68,
   "id": "7718a70b-563d-406c-9306-a3ac42ed6451",
   "metadata": {},
   "outputs": [
    {
     "name": "stdout",
     "output_type": "stream",
     "text": [
      "Matches: [',', ' ', '!']\n"
     ]
    }
   ],
   "source": [
    "# Para cualquier non-word caracter\n",
    "pattern = r\"\\W\"\n",
    "text = \"Hello, world!\"\n",
    "matches = re.findall(pattern, text)\n",
    "\n",
    "print(\"Matches:\", matches)"
   ]
  },
  {
   "cell_type": "code",
   "execution_count": 70,
   "id": "a70be07e-13e3-4c05-ae99-b64e8054a386",
   "metadata": {},
   "outputs": [
    {
     "name": "stdout",
     "output_type": "stream",
     "text": [
      "['st', 'st']\n"
     ]
    }
   ],
   "source": [
    "s2 = \"The BodyGuard is the best album of 'Whitney Houston'.\"\n",
    "\n",
    "result = re.findall(\"st\", s2)\n",
    "\n",
    "print(result)"
   ]
  },
  {
   "cell_type": "code",
   "execution_count": 72,
   "id": "6ef9f55b-c5e9-4c8e-aef3-26ead92da215",
   "metadata": {},
   "outputs": [
    {
     "name": "stdout",
     "output_type": "stream",
     "text": [
      "['The', 'BodyGuard', 'is', 'the', 'best', 'album', 'of', \"'Whitney\", \"Houston'.\"]\n"
     ]
    }
   ],
   "source": [
    "split_array = re.split(r\"\\s\", s2)\n",
    "\n",
    "print(split_array)"
   ]
  },
  {
   "cell_type": "code",
   "execution_count": 74,
   "id": "464e3ef8-acc3-4363-8b10-dbc6ef574e7e",
   "metadata": {},
   "outputs": [
    {
     "name": "stdout",
     "output_type": "stream",
     "text": [
      "The BodyGuard is the best album of 'legend'.\n"
     ]
    }
   ],
   "source": [
    "pattern = r\"Whitney Houston\"\n",
    "\n",
    "replacement = \"legend\"\n",
    "\n",
    "new_string = re.sub(pattern, replacement, s2, flags=re.IGNORECASE)\n",
    "\n",
    "print(new_string) "
   ]
  },
  {
   "cell_type": "code",
   "execution_count": 78,
   "id": "ec045d67-7688-4134-8163-9f3faf3312d0",
   "metadata": {},
   "outputs": [
    {
     "data": {
      "text/plain": [
       "int"
      ]
     },
     "execution_count": 78,
     "metadata": {},
     "output_type": "execute_result"
    }
   ],
   "source": [
    "type(int(12.3))"
   ]
  },
  {
   "cell_type": "code",
   "execution_count": 84,
   "id": "030d7d92-4544-4b67-bff3-8d7826bedaa1",
   "metadata": {},
   "outputs": [
    {
     "name": "stdout",
     "output_type": "stream",
     "text": [
      "HOLA\n"
     ]
    }
   ],
   "source": [
    "print('hola'.upper())"
   ]
  }
 ],
 "metadata": {
  "kernelspec": {
   "display_name": "Python [conda env:base] *",
   "language": "python",
   "name": "conda-base-py"
  },
  "language_info": {
   "codemirror_mode": {
    "name": "ipython",
    "version": 3
   },
   "file_extension": ".py",
   "mimetype": "text/x-python",
   "name": "python",
   "nbconvert_exporter": "python",
   "pygments_lexer": "ipython3",
   "version": "3.12.7"
  }
 },
 "nbformat": 4,
 "nbformat_minor": 5
}
