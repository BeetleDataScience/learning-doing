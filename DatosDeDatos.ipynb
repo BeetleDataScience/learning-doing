{
 "cells": [
  {
   "cell_type": "code",
   "execution_count": 3,
   "id": "9e7e4d46-95ed-4e7b-a83b-bfcc863e4b7e",
   "metadata": {},
   "outputs": [
    {
     "name": "stdout",
     "output_type": "stream",
     "text": [
      "proyecto numero 0 en python\n"
     ]
    }
   ],
   "source": [
    "print(\"proyecto numero 0 en python\")"
   ]
  },
  {
   "cell_type": "code",
   "execution_count": 5,
   "id": "f5f65e1f-02cf-4f9e-9020-d2a4ad0237df",
   "metadata": {},
   "outputs": [
    {
     "name": "stdout",
     "output_type": "stream",
     "text": [
      "intentando aprender a programar\n"
     ]
    }
   ],
   "source": [
    "print(\"intentando aprender a programar\")"
   ]
  },
  {
   "cell_type": "code",
   "execution_count": 51,
   "id": "f08e48b6-a5d2-4b71-ad0e-e8eea078cd6e",
   "metadata": {},
   "outputs": [
    {
     "data": {
      "text/plain": [
       "str"
      ]
     },
     "execution_count": 51,
     "metadata": {},
     "output_type": "execute_result"
    }
   ],
   "source": [
    "# tipos de caractereres en programacion \n",
    "# str, texto\n",
    "type(nombre)"
   ]
  },
  {
   "cell_type": "code",
   "execution_count": 53,
   "id": "3eeb0a0e-f5ee-4b5f-b335-137078cbf86e",
   "metadata": {},
   "outputs": [
    {
     "data": {
      "text/plain": [
       "int"
      ]
     },
     "execution_count": 53,
     "metadata": {},
     "output_type": "execute_result"
    }
   ],
   "source": [
    "# int, numeros enteros\n",
    "type(1)"
   ]
  },
  {
   "cell_type": "code",
   "execution_count": 57,
   "id": "708868a2-5470-4207-a493-4bb4d68613da",
   "metadata": {},
   "outputs": [
    {
     "data": {
      "text/plain": [
       "float"
      ]
     },
     "execution_count": 57,
     "metadata": {},
     "output_type": "execute_result"
    }
   ],
   "source": [
    "# float, numeros decimales o continuos\n",
    "type(1.5)"
   ]
  },
  {
   "cell_type": "code",
   "execution_count": 59,
   "id": "f1ae62b3-36d4-431a-85d4-80a78d43692d",
   "metadata": {},
   "outputs": [
    {
     "data": {
      "text/plain": [
       "bool"
      ]
     },
     "execution_count": 59,
     "metadata": {},
     "output_type": "execute_result"
    }
   ],
   "source": [
    "# bool, los verdaderos o falso\n",
    "type(True)"
   ]
  },
  {
   "cell_type": "code",
   "execution_count": 71,
   "id": "bdda67d6-34f2-47bb-b57f-036702e7f604",
   "metadata": {},
   "outputs": [],
   "source": [
    "nombre = \"Cristian\""
   ]
  },
  {
   "cell_type": "code",
   "execution_count": 73,
   "id": "3558609a-1d3e-46ab-a4aa-82ed2403807c",
   "metadata": {},
   "outputs": [],
   "source": [
    "nombre_2 = \"Camilo\""
   ]
  },
  {
   "cell_type": "code",
   "execution_count": 75,
   "id": "e001a0a9-648f-40fb-ac09-c757f105962c",
   "metadata": {},
   "outputs": [],
   "source": [
    "apellido = \"Mazuera\""
   ]
  },
  {
   "cell_type": "code",
   "execution_count": 77,
   "id": "ac30ac36-136a-457c-9546-87c0d7d321b5",
   "metadata": {},
   "outputs": [],
   "source": [
    "apellido_2 = \"Garzon\""
   ]
  },
  {
   "cell_type": "code",
   "execution_count": 79,
   "id": "dfdb18f1-47d3-4310-bd03-f9bf6e1de653",
   "metadata": {},
   "outputs": [],
   "source": [
    "Nombre_Completo = \"Mi nombre completo es\" + nombre + \" \" + nombre_2 + \" \" + apellido + \" \" + \" \" + apellido_2"
   ]
  },
  {
   "cell_type": "code",
   "execution_count": 81,
   "id": "22b51b7e-df8d-4308-9822-196aa59bbb42",
   "metadata": {},
   "outputs": [
    {
     "name": "stdout",
     "output_type": "stream",
     "text": [
      "Mi nombre completo esCristian Camilo Mazuera  Garzon\n"
     ]
    }
   ],
   "source": [
    "print(Nombre_Completo)"
   ]
  },
  {
   "cell_type": "code",
   "execution_count": 87,
   "id": "f4b0475d-d032-47ad-b31d-550e197a167a",
   "metadata": {},
   "outputs": [
    {
     "data": {
      "text/plain": [
       "29"
      ]
     },
     "execution_count": 87,
     "metadata": {},
     "output_type": "execute_result"
    }
   ],
   "source": [
    "edad = 28\n",
    "edad + 1"
   ]
  },
  {
   "cell_type": "code",
   "execution_count": 89,
   "id": "692bc340-71ff-4009-b99c-3ec726275eff",
   "metadata": {},
   "outputs": [
    {
     "name": "stdout",
     "output_type": "stream",
     "text": [
      "28\n"
     ]
    }
   ],
   "source": [
    "print(edad)"
   ]
  },
  {
   "cell_type": "code",
   "execution_count": 97,
   "id": "c21c85a2-037a-4552-86d2-c84cbbf239ac",
   "metadata": {},
   "outputs": [
    {
     "ename": "TypeError",
     "evalue": "can only concatenate str (not \"int\") to str",
     "output_type": "error",
     "traceback": [
      "\u001b[1;31m---------------------------------------------------------------------------\u001b[0m",
      "\u001b[1;31mTypeError\u001b[0m                                 Traceback (most recent call last)",
      "Cell \u001b[1;32mIn[97], line 2\u001b[0m\n\u001b[0;32m      1\u001b[0m \u001b[38;5;66;03m# No se nos permite conectar o concatenar 2 tipos de datos distintos\u001b[39;00m\n\u001b[1;32m----> 2\u001b[0m \u001b[38;5;28mprint\u001b[39m(\u001b[38;5;124m\"\u001b[39m\u001b[38;5;124mmi edad es\u001b[39m\u001b[38;5;124m\"\u001b[39m \u001b[38;5;241m+\u001b[39m \u001b[38;5;124m\"\u001b[39m\u001b[38;5;124m \u001b[39m\u001b[38;5;124m\"\u001b[39m \u001b[38;5;241m+\u001b[39m edad)\n",
      "\u001b[1;31mTypeError\u001b[0m: can only concatenate str (not \"int\") to str"
     ]
    }
   ],
   "source": [
    "# No se nos permite conectar o concatenar 2 tipos de datos distintos\n",
    "print(\"mi edad es\" + \" \" + edad)"
   ]
  },
  {
   "cell_type": "code",
   "execution_count": 99,
   "id": "1e40e121-cb58-48c1-8224-8b62d1557d64",
   "metadata": {},
   "outputs": [
    {
     "name": "stdout",
     "output_type": "stream",
     "text": [
      "mi edad es 28\n"
     ]
    }
   ],
   "source": [
    "# se debe convertir por medio de una funcion uno de los datos para que ambos sean str en este caso\n",
    "print(\"mi edad es\" + \" \" + str(edad))"
   ]
  },
  {
   "cell_type": "code",
   "execution_count": 105,
   "id": "4b8c300a-0140-4abf-958f-dd00bc021377",
   "metadata": {},
   "outputs": [],
   "source": [
    "# dato de tipo float\n",
    "altura = 1.65"
   ]
  },
  {
   "cell_type": "code",
   "execution_count": 109,
   "id": "532c1ef0-3168-4ab8-8888-f6561aefc487",
   "metadata": {},
   "outputs": [
    {
     "name": "stdout",
     "output_type": "stream",
     "text": [
      "29.65\n"
     ]
    }
   ],
   "source": [
    "# como es de esperarse si se permite sumar datos int con datos float\n",
    "print(edad + altura)"
   ]
  },
  {
   "cell_type": "code",
   "execution_count": 111,
   "id": "33c24790-3fdc-4b2d-9a86-b1200d9066c8",
   "metadata": {},
   "outputs": [],
   "source": [
    "humano = False "
   ]
  },
  {
   "cell_type": "code",
   "execution_count": 113,
   "id": "23fc5fcb-5197-43b6-afba-8033cbe67e62",
   "metadata": {},
   "outputs": [
    {
     "name": "stdout",
     "output_type": "stream",
     "text": [
      " eres un humano:  False\n"
     ]
    }
   ],
   "source": [
    "print(\" eres un humano: \" + \" \" + str(humano))"
   ]
  },
  {
   "cell_type": "code",
   "execution_count": null,
   "id": "13d342ae-79a2-4297-a064-5d976f2466a7",
   "metadata": {},
   "outputs": [],
   "source": []
  }
 ],
 "metadata": {
  "kernelspec": {
   "display_name": "Python [conda env:base] *",
   "language": "python",
   "name": "conda-base-py"
  },
  "language_info": {
   "codemirror_mode": {
    "name": "ipython",
    "version": 3
   },
   "file_extension": ".py",
   "mimetype": "text/x-python",
   "name": "python",
   "nbconvert_exporter": "python",
   "pygments_lexer": "ipython3",
   "version": "3.12.7"
  }
 },
 "nbformat": 4,
 "nbformat_minor": 5
}
