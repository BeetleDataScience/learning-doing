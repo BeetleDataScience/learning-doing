{
 "cells": [
  {
   "cell_type": "markdown",
   "id": "8ea61a48-e913-4599-9d61-17b36415df11",
   "metadata": {},
   "source": [
    "# Loops y Funciones"
   ]
  },
  {
   "cell_type": "markdown",
   "id": "b5d9032f-617f-4b3d-835a-fb3ae947246a",
   "metadata": {},
   "source": [
    "## Loops \n",
    "\n",
    "Un bucle que se repite hasta que una condicion se cumpla "
   ]
  },
  {
   "cell_type": "code",
   "execution_count": 10,
   "id": "3fed1b53-edcf-443a-82e3-5ad03c58db78",
   "metadata": {},
   "outputs": [
    {
     "data": {
      "text/plain": [
       "range(0, 3)"
      ]
     },
     "execution_count": 10,
     "metadata": {},
     "output_type": "execute_result"
    }
   ],
   "source": [
    "# Es una lista ordenada\n",
    "range(3)"
   ]
  },
  {
   "cell_type": "markdown",
   "id": "2bdcd019-f6b8-4743-a124-9c6cff840bd7",
   "metadata": {},
   "source": [
    "### for loop\n",
    "El **loop for** permite ejecutar un bloque de código varias veces. Flujo controlado de repeticion. Por ejemplo, lo utilizarías si quisieras imprimir cada elemento de una lista.\n",
    "Intentemos utilizar un **loop for** para imprimir todos los años presentados en la lista fechas:"
   ]
  },
  {
   "cell_type": "code",
   "execution_count": 19,
   "id": "a87aef35-ddd1-4bb6-8011-184be23bda8c",
   "metadata": {},
   "outputs": [
    {
     "name": "stdout",
     "output_type": "stream",
     "text": [
      "1982\n",
      "1980\n",
      "1973\n"
     ]
    }
   ],
   "source": [
    "# ejemplo \n",
    "dates = [1982, 1980, 1973]\n",
    "N = len(dates)\n",
    "\n",
    "for i in range(N):\n",
    "    print(dates[i])"
   ]
  },
  {
   "cell_type": "code",
   "execution_count": 21,
   "id": "25fa059a-3a4f-4bd5-afd5-6cf9b01796a5",
   "metadata": {},
   "outputs": [
    {
     "name": "stdout",
     "output_type": "stream",
     "text": [
      "0\n",
      "1\n",
      "2\n",
      "3\n",
      "4\n",
      "5\n",
      "6\n",
      "7\n"
     ]
    }
   ],
   "source": [
    "for i in range(0,8):\n",
    "    print(i)"
   ]
  },
  {
   "cell_type": "code",
   "execution_count": 23,
   "id": "aeb7f6db-062e-4c36-acbf-e7b9379c8b4c",
   "metadata": {},
   "outputs": [
    {
     "name": "stdout",
     "output_type": "stream",
     "text": [
      "1982\n",
      "1980\n",
      "1973\n"
     ]
    }
   ],
   "source": [
    "for year in dates:\n",
    "    print(year)"
   ]
  },
  {
   "cell_type": "code",
   "execution_count": 25,
   "id": "aa607dd2-714a-47b1-a50a-583e0c3d092a",
   "metadata": {},
   "outputs": [
    {
     "name": "stdout",
     "output_type": "stream",
     "text": [
      "Before square  0 is red\n",
      "After square  0 is white\n",
      "Before square  1 is yellow\n",
      "After square  1 is white\n",
      "Before square  2 is green\n",
      "After square  2 is white\n",
      "Before square  3 is purple\n",
      "After square  3 is white\n",
      "Before square  4 is blue\n",
      "After square  4 is white\n"
     ]
    }
   ],
   "source": [
    "# Use el LOOP FOR para cambiar los elementos de la lista\n",
    "\n",
    "squares = ['red', 'yellow', 'green', 'purple', 'blue']\n",
    "\n",
    "for i in range(0, 5):\n",
    "    print(\"Before square \", i, 'is',  squares[i])\n",
    "    squares[i] = 'white'\n",
    "    print(\"After square \", i, 'is',  squares[i])"
   ]
  },
  {
   "cell_type": "code",
   "execution_count": 27,
   "id": "105e93fd-c29c-413c-a9b1-67a7c3028aef",
   "metadata": {},
   "outputs": [
    {
     "name": "stdout",
     "output_type": "stream",
     "text": [
      "0 red\n",
      "1 yellow\n",
      "2 green\n",
      "3 purple\n",
      "4 blue\n"
     ]
    }
   ],
   "source": [
    "squares=['red', 'yellow', 'green', 'purple', 'blue']\n",
    "\n",
    "for i, square in enumerate(squares):\n",
    "    print(i, square)"
   ]
  },
  {
   "cell_type": "markdown",
   "id": "1aa942a8-2fd9-4b46-a954-8da4b2b48cae",
   "metadata": {},
   "source": [
    "### while loop \n",
    "¿Qué pasa si queremos seguir ejecutando un bloque de código hasta que se cumpla una determinada condición? El **loop while** existe como una herramienta para la ejecución repetida basada en una condición. El bloque de código se seguirá ejecutando hasta que la condición lógica dada devuelva un valor booleano Falso."
   ]
  },
  {
   "cell_type": "code",
   "execution_count": 31,
   "id": "12700357-3c5a-49b5-bbbf-fcbe98e5d3d3",
   "metadata": {},
   "outputs": [
    {
     "name": "stdout",
     "output_type": "stream",
     "text": [
      "1982\n",
      "1980\n",
      "It took 2 repetitions to get out of loop.\n"
     ]
    }
   ],
   "source": [
    "# ejemplo \n",
    "\n",
    "dates = [1982, 1980, 1973, 2000]\n",
    "i = 0\n",
    "year = dates [0]\n",
    "\n",
    "while(year != 1973):\n",
    "    print(year)\n",
    "    i = i + 1\n",
    "    year = dates[i]\n",
    "\n",
    "print(\"It took\", i, \"repetitions to get out of loop.\")"
   ]
  },
  {
   "cell_type": "code",
   "execution_count": 33,
   "id": "d6b7c82d-c603-4906-9588-bad1a8156b1e",
   "metadata": {},
   "outputs": [
    {
     "name": "stdout",
     "output_type": "stream",
     "text": [
      "AA\n",
      "BA\n",
      "CA\n"
     ]
    }
   ],
   "source": [
    "for x in ['A', 'B', 'C']:\n",
    "    print(x + 'A')"
   ]
  },
  {
   "cell_type": "code",
   "execution_count": 35,
   "id": "83b80fd5-1f34-43f3-b2f4-aeccb9d3d725",
   "metadata": {},
   "outputs": [
    {
     "name": "stdout",
     "output_type": "stream",
     "text": [
      "0 A\n",
      "1 B\n",
      "2 C\n"
     ]
    }
   ],
   "source": [
    "for i, x in enumerate(['A', 'B', 'C']):\n",
    "    print(i, x)"
   ]
  },
  {
   "cell_type": "markdown",
   "id": "79fb8f7d-55b8-4162-b7f1-48afddc3d00b",
   "metadata": {},
   "source": [
    "## FUNCIONES \n",
    "Son bloques de contruccion fundamentales que encapsulan acciones de entrada, ejecutan acciones y devuelven una salida. "
   ]
  },
  {
   "cell_type": "code",
   "execution_count": 77,
   "id": "3ea73edb-a5cc-4563-b697-d3058b9df70a",
   "metadata": {},
   "outputs": [],
   "source": [
    "# Las estructuras de las funciones son las siguientes DEF (es el codigo para crear la funcion), seguido del nombre de la funcion en este ejemplo (ADD) \n",
    "# y un parametro de entrada que siempre estara en parentesis en este ejemplo (a). tambien puedes usar el \"\"\" para texto que puede ayudar a expresar lo que hace \n",
    "# la funcion \n",
    "\n",
    "def add(a):\n",
    "    \"\"\"\n",
    "    Add 1 to a\n",
    "    \"\"\"\n",
    "    b = a + 1\n",
    "    print(a, \"if you add one\", b)\n",
    "    return(b)"
   ]
  },
  {
   "cell_type": "markdown",
   "id": "20bd8dba-57d2-4f45-a0e1-49168c13c157",
   "metadata": {},
   "source": [
    "<img src=\"https://cf-courses-data.s3.us.cloud-object-storage.appdomain.cloud/IBMDeveloperSkillsNetwork-PY0101EN-SkillsNetwork/labs/Module%203/images/FuncsDefinition.png\" width=\"500\"> "
   ]
  },
  {
   "cell_type": "code",
   "execution_count": 53,
   "id": "e8832d29-d3a5-4850-8454-72d71371b5a2",
   "metadata": {},
   "outputs": [
    {
     "name": "stdout",
     "output_type": "stream",
     "text": [
      "Help on function add in module __main__:\n",
      "\n",
      "add(a)\n",
      "    Add 1 to a\n",
      "\n"
     ]
    }
   ],
   "source": [
    "# la keyword help nos ayuda a entender lo que hace la funcion creada\n",
    "help( add)"
   ]
  },
  {
   "cell_type": "code",
   "execution_count": 57,
   "id": "84f010b3-c7ae-4218-89b3-1d8c843aacd7",
   "metadata": {},
   "outputs": [
    {
     "name": "stdout",
     "output_type": "stream",
     "text": [
      "1 if you add one 2\n"
     ]
    },
    {
     "data": {
      "text/plain": [
       "2"
      ]
     },
     "execution_count": 57,
     "metadata": {},
     "output_type": "execute_result"
    }
   ],
   "source": [
    "# probemos la funcion creada \n",
    "add(1)"
   ]
  },
  {
   "cell_type": "code",
   "execution_count": 59,
   "id": "7212d871-971d-48af-9807-3b9763ece6da",
   "metadata": {},
   "outputs": [
    {
     "name": "stdout",
     "output_type": "stream",
     "text": [
      "3 if you add one 4\n"
     ]
    },
    {
     "data": {
      "text/plain": [
       "4"
      ]
     },
     "execution_count": 59,
     "metadata": {},
     "output_type": "execute_result"
    }
   ],
   "source": [
    "add(3)"
   ]
  },
  {
   "cell_type": "code",
   "execution_count": 61,
   "id": "06e06b39-cdb7-40e6-9ace-616a891e6a29",
   "metadata": {},
   "outputs": [
    {
     "name": "stdout",
     "output_type": "stream",
     "text": [
      "24\n"
     ]
    }
   ],
   "source": [
    "# otro ejemplo de funcion  \n",
    "\n",
    "def mult(a, b):\n",
    "    c = a * b\n",
    "    return(c)\n",
    "    print(' This is not printed')\n",
    "\n",
    "result = mult(12,2)\n",
    "print(result)"
   ]
  },
  {
   "cell_type": "code",
   "execution_count": 63,
   "id": "06a6876d-898b-44fc-a7c8-df7dc57f26fc",
   "metadata": {},
   "outputs": [
    {
     "data": {
      "text/plain": [
       "6"
      ]
     },
     "execution_count": 63,
     "metadata": {},
     "output_type": "execute_result"
    }
   ],
   "source": [
    "mult(2, 3)"
   ]
  },
  {
   "cell_type": "code",
   "execution_count": 65,
   "id": "3a36d266-7295-48bc-840e-3cc983b4d404",
   "metadata": {},
   "outputs": [
    {
     "data": {
      "text/plain": [
       "31.400000000000002"
      ]
     },
     "execution_count": 65,
     "metadata": {},
     "output_type": "execute_result"
    }
   ],
   "source": [
    "mult(10.0, 3.14)"
   ]
  },
  {
   "cell_type": "code",
   "execution_count": 67,
   "id": "df947cfb-c44d-4377-b69b-b89b302df1dc",
   "metadata": {},
   "outputs": [
    {
     "data": {
      "text/plain": [
       "'The BodyGuardThe BodyGuard'"
      ]
     },
     "execution_count": 67,
     "metadata": {},
     "output_type": "execute_result"
    }
   ],
   "source": [
    "# lo que sucede uno de los parametros es \n",
    "mult(2, \"The BodyGuard\")"
   ]
  },
  {
   "cell_type": "code",
   "execution_count": 79,
   "id": "4d76cf69-0dbe-4fa1-a56e-9776c637e1b5",
   "metadata": {},
   "outputs": [],
   "source": [
    "# existe 2 tipos de variables, las locales que son las que se encuentran dentro de la funcion y que solo se pueden cambiar en la funcion y \n",
    "# las globales las cuales son adsequibles en cualquier momento del programa\n",
    "\n",
    "def square(a):\n",
    "\n",
    "    # Local variable b\n",
    "    b = 1\n",
    "    c = a * a + b\n",
    "    print(a, \"if you square +1\", c)\n",
    "    return(c)"
   ]
  },
  {
   "cell_type": "code",
   "execution_count": 81,
   "id": "47c6a230-99ed-4d49-bed8-955315e8c497",
   "metadata": {},
   "outputs": [
    {
     "name": "stdout",
     "output_type": "stream",
     "text": [
      "3 if you square +1 10\n"
     ]
    },
    {
     "data": {
      "text/plain": [
       "10"
      ]
     },
     "execution_count": 81,
     "metadata": {},
     "output_type": "execute_result"
    }
   ],
   "source": [
    "# global variables \n",
    "\n",
    "x = 3 \n",
    "y = square(x)\n",
    "y"
   ]
  },
  {
   "cell_type": "code",
   "execution_count": 83,
   "id": "50861b37-1a56-4643-bed8-4c4624c9d762",
   "metadata": {},
   "outputs": [
    {
     "name": "stdout",
     "output_type": "stream",
     "text": [
      "2 if you square +1 5\n"
     ]
    },
    {
     "data": {
      "text/plain": [
       "5"
      ]
     },
     "execution_count": 83,
     "metadata": {},
     "output_type": "execute_result"
    }
   ],
   "source": [
    "square(2)"
   ]
  },
  {
   "cell_type": "code",
   "execution_count": 85,
   "id": "cfd8f33e-7283-4a2a-9685-79e7b7e1ffe4",
   "metadata": {},
   "outputs": [],
   "source": [
    "# si no ahi declaracion de retorno la funcion devolvera NONE\n",
    "\n",
    "def MJ():\n",
    "    print('The BodyGuard')\n",
    "\n",
    "def MJ1():\n",
    "    print('The BodyGuard')\n",
    "    return(None)"
   ]
  },
  {
   "cell_type": "code",
   "execution_count": 87,
   "id": "028cebdc-1ce0-48b6-9493-853aa3af0537",
   "metadata": {},
   "outputs": [
    {
     "name": "stdout",
     "output_type": "stream",
     "text": [
      "The BodyGuard\n"
     ]
    }
   ],
   "source": [
    "MJ()"
   ]
  },
  {
   "cell_type": "code",
   "execution_count": 89,
   "id": "1c9fdc36-c972-4d0b-8fef-adcebcfa91eb",
   "metadata": {},
   "outputs": [
    {
     "name": "stdout",
     "output_type": "stream",
     "text": [
      "The BodyGuard\n"
     ]
    }
   ],
   "source": [
    "MJ1()"
   ]
  },
  {
   "cell_type": "code",
   "execution_count": 91,
   "id": "52b7ef41-ae37-4393-917c-10616eb05a99",
   "metadata": {},
   "outputs": [
    {
     "name": "stdout",
     "output_type": "stream",
     "text": [
      "The BodyGuard\n",
      "None\n",
      "The BodyGuard\n",
      "None\n"
     ]
    }
   ],
   "source": [
    "print(MJ())\n",
    "print(MJ1())"
   ]
  },
  {
   "cell_type": "code",
   "execution_count": 93,
   "id": "10d7eb34-7a2e-47f1-907c-0d1b60005b77",
   "metadata": {},
   "outputs": [],
   "source": [
    "def con(a, b):\n",
    "    return(a + b)"
   ]
  },
  {
   "cell_type": "code",
   "execution_count": 95,
   "id": "4a4df503-7442-443f-822d-6fd294d01791",
   "metadata": {},
   "outputs": [
    {
     "data": {
      "text/plain": [
       "'Thisis'"
      ]
     },
     "execution_count": 95,
     "metadata": {},
     "output_type": "execute_result"
    }
   ],
   "source": [
    "con('This', 'is')"
   ]
  },
  {
   "cell_type": "markdown",
   "id": "78ce63ae-2857-4db4-964f-f5b4ab5cb432",
   "metadata": {},
   "source": [
    "### las funciones simplifican las cosas "
   ]
  },
  {
   "cell_type": "code",
   "execution_count": 98,
   "id": "1ffebc43-7feb-4628-9e41-a1560de95b8e",
   "metadata": {},
   "outputs": [],
   "source": [
    "# Considere las dos líneas de código del Bloque 1 y del Bloque 2: el procedimiento de cada bloque es idéntico. Lo único que difiere son los nombres y valores de las variables."
   ]
  },
  {
   "cell_type": "markdown",
   "id": "5d646807-916d-4735-9183-c639ce78001f",
   "metadata": {},
   "source": [
    "#### Bloque 1"
   ]
  },
  {
   "cell_type": "code",
   "execution_count": 101,
   "id": "4780b093-d982-402a-b7bf-fd76bb7cf990",
   "metadata": {},
   "outputs": [
    {
     "data": {
      "text/plain": [
       "5"
      ]
     },
     "execution_count": 101,
     "metadata": {},
     "output_type": "execute_result"
    }
   ],
   "source": [
    "# a y b calculan bloque 1\n",
    "\n",
    "a1 = 4\n",
    "b1 = 5\n",
    "c1 = a1 + b1 + 2 * a1 * b1 - 1\n",
    "if (c1 < 0):\n",
    "    c1 = 0\n",
    "else:\n",
    "    c1 = 5 \n",
    "c1 "
   ]
  },
  {
   "cell_type": "markdown",
   "id": "f99ba318-a57d-4b58-8012-70b79184cc19",
   "metadata": {},
   "source": [
    "#### Bloque 2 "
   ]
  },
  {
   "cell_type": "code",
   "execution_count": 104,
   "id": "8e047c5a-ab5e-4d25-bad7-caecdf7c8554",
   "metadata": {},
   "outputs": [
    {
     "data": {
      "text/plain": [
       "0"
      ]
     },
     "execution_count": 104,
     "metadata": {},
     "output_type": "execute_result"
    }
   ],
   "source": [
    "# a y b calculan bloque 2 \n",
    "a2 = 0\n",
    "b2 = 0\n",
    "c2 = a2 + b2 + 2 * a2 * b2 - 1\n",
    "if (c2 < 0):\n",
    "    c2 = 0\n",
    "else: \n",
    "    c2 = 5\n",
    "c2"
   ]
  },
  {
   "cell_type": "markdown",
   "id": "05012147-2183-4b62-a2f3-9b786a06282d",
   "metadata": {},
   "source": [
    "Podemos sustituir las líneas de código por una función. Una función combina muchas instrucciones en una sola línea de código. Una vez definida una función, puede utilizarse repetidamente. Puedes invocar la misma función muchas veces en tu programa. Puedes guardar tu función y utilizarla en otro programa o utilizar la función de otra persona. Las líneas de código del bloque de código 1 y del bloque de código 2 pueden sustituirse por la siguiente función:"
   ]
  },
  {
   "cell_type": "code",
   "execution_count": 109,
   "id": "991cc381-3856-438e-bda4-5304a1d993e9",
   "metadata": {},
   "outputs": [],
   "source": [
    "# hagamos las funciones \n",
    "\n",
    "def equation(a,b):\n",
    "    c = a + b + 2 * a * b - 1\n",
    "    if(c < 0):\n",
    "        c = 0\n",
    "    else:\n",
    "        c = 5\n",
    "    return(c)"
   ]
  },
  {
   "cell_type": "markdown",
   "id": "9f3ea72d-9029-43ff-b3f7-c2bb38d6ecdd",
   "metadata": {},
   "source": [
    "mire como ahora puede sustituir las valores requeridos anteriormente con mayor facilidad "
   ]
  },
  {
   "cell_type": "code",
   "execution_count": 116,
   "id": "54316e8a-c73c-46c8-bf21-a2235eba4798",
   "metadata": {},
   "outputs": [
    {
     "data": {
      "text/plain": [
       "5"
      ]
     },
     "execution_count": 116,
     "metadata": {},
     "output_type": "execute_result"
    }
   ],
   "source": [
    "a1 = 4\n",
    "b1 = 5 \n",
    "c1 = equation(a1,b1)\n",
    "c1"
   ]
  },
  {
   "cell_type": "code",
   "execution_count": 118,
   "id": "9b3cb84f-ff90-4d07-9580-1dee6cdff074",
   "metadata": {},
   "outputs": [
    {
     "data": {
      "text/plain": [
       "0"
      ]
     },
     "execution_count": 118,
     "metadata": {},
     "output_type": "execute_result"
    }
   ],
   "source": [
    "a2 = 0\n",
    "b2 = 0 \n",
    "c2 = equation(a2, b2)\n",
    "c2"
   ]
  },
  {
   "cell_type": "markdown",
   "id": "e44d1d16-f0b9-47b6-a5f8-10d29977cba9",
   "metadata": {},
   "source": [
    "### funciones pre determinadas \n",
    "A continuacion revisaremos algunas funciones ya predeterminadas "
   ]
  },
  {
   "cell_type": "code",
   "execution_count": 121,
   "id": "18c701f1-03fb-40b4-aa52-7f6cf00d3b58",
   "metadata": {},
   "outputs": [
    {
     "name": "stdout",
     "output_type": "stream",
     "text": [
      "[10.0, 8.5, 9.5, 7.0, 9.5, 9.0, 9.5]\n"
     ]
    }
   ],
   "source": [
    "# print() \n",
    "album_ratings = [10.0, 8.5, 9.5, 7.0, 9.5, 9.0, 9.5]\n",
    "print(album_ratings)"
   ]
  },
  {
   "cell_type": "code",
   "execution_count": 123,
   "id": "dde97542-39fd-4949-853d-20d48d523e04",
   "metadata": {},
   "outputs": [
    {
     "data": {
      "text/plain": [
       "63.0"
      ]
     },
     "execution_count": 123,
     "metadata": {},
     "output_type": "execute_result"
    }
   ],
   "source": [
    "# sum ()\n",
    "sum(album_ratings)"
   ]
  },
  {
   "cell_type": "code",
   "execution_count": 125,
   "id": "656fbf4f-548a-4cef-97d9-fdf74adf84f2",
   "metadata": {},
   "outputs": [
    {
     "data": {
      "text/plain": [
       "7"
      ]
     },
     "execution_count": 125,
     "metadata": {},
     "output_type": "execute_result"
    }
   ],
   "source": [
    "# len ()\n",
    "len(album_ratings)"
   ]
  },
  {
   "cell_type": "markdown",
   "id": "b84a6bd4-0592-4361-bd64-d8de5f037bd5",
   "metadata": {},
   "source": [
    "### como usar IF / ELSE y loops en las funciones "
   ]
  },
  {
   "cell_type": "code",
   "execution_count": 128,
   "id": "a8bb5a0f-cf3d-4fac-b791-e836c03d0ced",
   "metadata": {},
   "outputs": [
    {
     "name": "stdout",
     "output_type": "stream",
     "text": [
      "The BodyGuard 1980\n",
      "Oldie\n"
     ]
    }
   ],
   "source": [
    "# la funcion return() es muy util en las funciones que tienen IF, si quieres que la salida dependa de alguna condicion \n",
    "\n",
    "def type_of_album(album, year_released):\n",
    "    print(album, year_released)\n",
    "    if year_released > 1980:\n",
    "        return \"Modern\"\n",
    "    else:\n",
    "        return \"Oldie\"\n",
    "\n",
    "x = type_of_album(\"The BodyGuard\", 1980)\n",
    "print(x)"
   ]
  },
  {
   "cell_type": "code",
   "execution_count": 132,
   "id": "331ab384-e316-4e83-8c35-6774b1ab4103",
   "metadata": {},
   "outputs": [],
   "source": [
    "# Print la lista usando un loop \n",
    "def PrintList(the_list):\n",
    "    for element in the_list:\n",
    "        print(element)"
   ]
  },
  {
   "cell_type": "code",
   "execution_count": 134,
   "id": "0d6624e3-bdc8-42e3-9ef4-d014da36b2a9",
   "metadata": {},
   "outputs": [
    {
     "name": "stdout",
     "output_type": "stream",
     "text": [
      "1\n",
      "1\n",
      "the man\n",
      "abc\n"
     ]
    }
   ],
   "source": [
    "PrintList(['1', 1, 'the man', \"abc\"])"
   ]
  },
  {
   "cell_type": "markdown",
   "id": "2b916f09-e78d-4139-81be-c172e55bb3df",
   "metadata": {},
   "source": [
    "### String comparision en funciones "
   ]
  },
  {
   "cell_type": "code",
   "execution_count": 137,
   "id": "b0ee4a88-2e90-473e-a642-c2d159d04463",
   "metadata": {},
   "outputs": [
    {
     "data": {
      "text/plain": [
       "'String matched'"
      ]
     },
     "execution_count": 137,
     "metadata": {},
     "output_type": "execute_result"
    }
   ],
   "source": [
    "string = \"The BodyGuard is the best album\"\n",
    "\n",
    "def check_string(text):\n",
    "    if text in string:\n",
    "        return 'String matched'\n",
    "    else:\n",
    "        return 'String not matched'\n",
    "\n",
    "check_string(\"The BodyGuard is the best\")"
   ]
  },
  {
   "cell_type": "code",
   "execution_count": 139,
   "id": "a093a816-ccde-4a3a-8aa5-c373abbb710d",
   "metadata": {},
   "outputs": [
    {
     "name": "stdout",
     "output_type": "stream",
     "text": [
      "\n",
      "String Matched\n"
     ]
    }
   ],
   "source": [
    "#Compare two strings using == operator and function\n",
    "def compareStrings(x, y):\n",
    "# Use if else statement to compare x and y\n",
    "    if x==y:\n",
    "        return 1\n",
    "    \n",
    "# Declare two different variables as string1 and string2 and pass string in it\n",
    "string1 = \"The BodyGuard is the best album\"\n",
    "string2 = \"The BodyGuard is the best album\"\n",
    "\n",
    "# Declare a variable to store result after comparing both the strings\n",
    "check = compareStrings(string1, string2)\n",
    "\n",
    "#Use if else statement to compare the string\n",
    "if check==1:\n",
    "    print(\"\\nString Matched\")\n",
    "else:\n",
    "    print(\"\\nString not Matched\")"
   ]
  },
  {
   "cell_type": "code",
   "execution_count": 141,
   "id": "7645c8bc-f0a9-4e79-a498-726c16944e20",
   "metadata": {},
   "outputs": [
    {
     "name": "stdout",
     "output_type": "stream",
     "text": [
      "The Frequency of words is: {'Mary': 6, 'had': 2, 'a': 2, 'little': 3, 'lamb': 3, 'Little': 1, 'lamb,': 1, 'lamb.Its': 1, 'fleece': 1, 'was': 2, 'white': 1, 'as': 1, 'snow': 1, 'And': 1, 'everywhere': 1, 'that': 2, 'went': 3, 'went,': 1, 'Everywhere': 1, 'The': 1, 'sure': 1, 'to': 1, 'go': 1}\n"
     ]
    }
   ],
   "source": [
    "# Python Program to Count words in a String using Dictionary\n",
    "def freq(string):\n",
    "    \n",
    "    #step1: A list variable is declared and initialized to an empty list.\n",
    "    words = []\n",
    "    \n",
    "    #step2: Break the string into list of words\n",
    "    words = string.split() # or string.lower().split()\n",
    "    \n",
    "    #step3: Declare a dictionary\n",
    "    Dict = {}\n",
    "    \n",
    "    #step4: Use for loop to iterate words and values to the dictionary\n",
    "    for key in words:\n",
    "        Dict[key] = words.count(key)\n",
    "        \n",
    "    #step5: Print the dictionary\n",
    "    print(\"The Frequency of words is:\",Dict)\n",
    "    \n",
    "#step6: Call function and pass string in it\n",
    "freq(\"Mary had a little lamb Little lamb, little lamb Mary had a little lamb.Its fleece was white as snow And everywhere that Mary went Mary went, Mary went \\\n",
    "Everywhere that Mary went The lamb was sure to go\")"
   ]
  },
  {
   "cell_type": "code",
   "execution_count": 143,
   "id": "f9240166-6139-4c34-a423-d315f77f1ca8",
   "metadata": {},
   "outputs": [],
   "source": [
    "# Puede establecer un valor por defecto para los argumentos de su función. Por ejemplo, en la función isGoodRating(), ¿qué pasaría si quisiéramos crear un umbral para lo que consideramos una buena valoración? Tal vez, por defecto, deberíamos tener una calificación de 4:\n",
    "\n",
    "def isGoodRating(rating=4): \n",
    "    if(rating < 7):\n",
    "        print(\"this album sucks it's rating is\",rating)\n",
    "        \n",
    "    else:\n",
    "        print(\"this album is good its rating is\",rating)\n"
   ]
  },
  {
   "cell_type": "code",
   "execution_count": 145,
   "id": "f993b88e-f55a-4854-b6da-134443714a7d",
   "metadata": {},
   "outputs": [
    {
     "name": "stdout",
     "output_type": "stream",
     "text": [
      "this album sucks it's rating is 4\n",
      "this album is good its rating is 10\n"
     ]
    }
   ],
   "source": [
    "isGoodRating()\n",
    "isGoodRating(10)"
   ]
  },
  {
   "cell_type": "markdown",
   "id": "d0d1e8c9-cd97-40c8-969e-c4406c3c470d",
   "metadata": {},
   "source": [
    "#### variantes globales "
   ]
  },
  {
   "cell_type": "code",
   "execution_count": 148,
   "id": "12220e4a-0998-40aa-8a49-2724b875a3b2",
   "metadata": {},
   "outputs": [
    {
     "name": "stdout",
     "output_type": "stream",
     "text": [
      "The BodyGuard is an album\n"
     ]
    }
   ],
   "source": [
    "album = \"The BodyGuard\"\n",
    "def printer1(album):\n",
    "    internal_var1 = \"Thriller\"\n",
    "    print(album, \"is an album\")\n",
    "    \n",
    "printer1(album )\n",
    "# try runningthe following code\n",
    "#printer1(internal_var1) "
   ]
  },
  {
   "cell_type": "code",
   "execution_count": 154,
   "id": "50f737c9-33dc-4a42-91f5-1d4623774cea",
   "metadata": {},
   "outputs": [
    {
     "ename": "NameError",
     "evalue": "name 'internal_var1' is not defined",
     "output_type": "error",
     "traceback": [
      "\u001b[1;31m---------------------------------------------------------------------------\u001b[0m",
      "\u001b[1;31mNameError\u001b[0m                                 Traceback (most recent call last)",
      "Cell \u001b[1;32mIn[154], line 2\u001b[0m\n\u001b[0;32m      1\u001b[0m \u001b[38;5;66;03m# esta busqueda dara error ya que es una funcion interna por lo que no se esta definida por fuera de la misma funcion \u001b[39;00m\n\u001b[1;32m----> 2\u001b[0m printer1(internal_var1)\n",
      "\u001b[1;31mNameError\u001b[0m: name 'internal_var1' is not defined"
     ]
    }
   ],
   "source": [
    "# esta busqueda dara error ya que es una funcion interna por lo que no se esta definida por fuera de la misma funcion \n",
    "printer1(internal_var1)"
   ]
  },
  {
   "cell_type": "code",
   "execution_count": 156,
   "id": "1fd98838-b6c1-4d40-8b51-30ee3ea14c19",
   "metadata": {},
   "outputs": [
    {
     "name": "stdout",
     "output_type": "stream",
     "text": [
      "The BodyGuard is an album\n",
      "Thriller is an album\n"
     ]
    }
   ],
   "source": [
    "album = \"The BodyGuard\"\n",
    "\n",
    "def printer(album):\n",
    "    global internal_var \n",
    "    internal_var= \"Thriller\"\n",
    "    print(album,\"is an album\")\n",
    "\n",
    "printer(album) \n",
    "printer(internal_var)"
   ]
  },
  {
   "cell_type": "code",
   "execution_count": 158,
   "id": "e9450fc4-d0d0-4251-83b8-47d7268782f0",
   "metadata": {},
   "outputs": [
    {
     "name": "stdout",
     "output_type": "stream",
     "text": [
      "AC/DC's rating is: 10.0\n",
      "Deep Purple's rating is: 0.0\n",
      "My favourite band is: AC/DC\n"
     ]
    }
   ],
   "source": [
    "# otro ejemplo \n",
    "myFavouriteBand = \"AC/DC\"\n",
    "\n",
    "def getBandRating(bandname):\n",
    "    if bandname == myFavouriteBand:\n",
    "        return 10.0\n",
    "    else:\n",
    "        return 0.0\n",
    "\n",
    "print(\"AC/DC's rating is:\", getBandRating(\"AC/DC\"))\n",
    "print(\"Deep Purple's rating is:\",getBandRating(\"Deep Purple\"))\n",
    "print(\"My favourite band is:\", myFavouriteBand)"
   ]
  },
  {
   "cell_type": "code",
   "execution_count": 170,
   "id": "028cb69c-7aea-420d-b8a5-64a50ad182d5",
   "metadata": {},
   "outputs": [
    {
     "ename": "NameError",
     "evalue": "name 'myFavouriteBand' is not defined",
     "output_type": "error",
     "traceback": [
      "\u001b[1;31m---------------------------------------------------------------------------\u001b[0m",
      "\u001b[1;31mNameError\u001b[0m                                 Traceback (most recent call last)",
      "Cell \u001b[1;32mIn[170], line 3\u001b[0m\n\u001b[0;32m      1\u001b[0m \u001b[38;5;66;03m# en el siguiente ejemplo miraremos como borramos la variable global y la ponemos como interna a lo cual al momento de querrer llamar esta variable fuera del modelo, ya no puede ser usada\u001b[39;00m\n\u001b[1;32m----> 3\u001b[0m \u001b[38;5;28;01mdel\u001b[39;00m myFavouriteBand\n\u001b[0;32m      5\u001b[0m \u001b[38;5;28;01mdef\u001b[39;00m \u001b[38;5;21mgetBandRating\u001b[39m(bandname):\n\u001b[0;32m      6\u001b[0m     myFavouriteBand \u001b[38;5;241m=\u001b[39m \u001b[38;5;124m\"\u001b[39m\u001b[38;5;124mAC/DC\u001b[39m\u001b[38;5;124m\"\u001b[39m\n",
      "\u001b[1;31mNameError\u001b[0m: name 'myFavouriteBand' is not defined"
     ]
    }
   ],
   "source": [
    "# en el siguiente ejemplo miraremos como borramos la variable global y la ponemos como interna a lo cual al momento de querrer llamar esta variable fuera del modelo, ya no puede ser usada\n",
    "\n",
    "del myFavouriteBand\n",
    "\n",
    "def getBandRating(bandname):\n",
    "    myFavouriteBand = \"AC/DC\"\n",
    "    if bandname == myFavouriteBand:\n",
    "        return 10.0\n",
    "    else:\n",
    "        return 0.0\n",
    "\n",
    "print(\"AC/DC's rating is: \", getBandRating(\"AC/DC\"))\n",
    "print(\"Deep Purple's rating is: \", getBandRating(\"Deep Purple\"))\n",
    "print(\"My favourite band is\", myFavouriteBand)"
   ]
  },
  {
   "cell_type": "code",
   "execution_count": 172,
   "id": "6a37b974-b702-4ccb-b99a-5f89a1ced316",
   "metadata": {},
   "outputs": [
    {
     "name": "stdout",
     "output_type": "stream",
     "text": [
      "AC/DC's rating is: 0.0\n",
      "Deep Purple's rating is:  10.0\n",
      "My favourite band is: AC/DC\n"
     ]
    }
   ],
   "source": [
    "# Por último, eche un vistazo a este ejemplo. Ahora tenemos dos definiciones de variables myFavouriteBand. La primera de ellas tiene un ámbito global, y la segunda es una variable local dentro de la función getBandRating. Dentro de la función getBandRating, la variable local tiene prioridad. Deep Purple recibirá una calificación de 10.0 cuando se pase a la función getBandRating. Sin embargo, fuera de la función getBandRating, la variable local getBandRating s no está definida, por lo que la variable myFavouriteBand que imprimimos es la variable global, que tiene un valor de AC/DC:\n",
    "\n",
    "myFavouriteBand = \"AC/DC\"\n",
    "\n",
    "def getBandRating(bandname):\n",
    "    myFavouriteBand = \"Deep Purple\"\n",
    "    if bandname == myFavouriteBand:\n",
    "        return 10.0\n",
    "    else:\n",
    "        return 0.0\n",
    "\n",
    "print(\"AC/DC's rating is:\",getBandRating(\"AC/DC\"))\n",
    "print(\"Deep Purple's rating is: \",getBandRating(\"Deep Purple\"))\n",
    "print(\"My favourite band is:\",myFavouriteBand)"
   ]
  },
  {
   "cell_type": "code",
   "execution_count": 174,
   "id": "6f3ccaef-11d7-4b62-a6cb-83f9846d3372",
   "metadata": {},
   "outputs": [
    {
     "data": {
      "text/plain": [
       "1"
      ]
     },
     "execution_count": 174,
     "metadata": {},
     "output_type": "execute_result"
    }
   ],
   "source": [
    "len([sum([1,1,1])])"
   ]
  },
  {
   "cell_type": "code",
   "execution_count": 178,
   "id": "2acbc8a1-2f09-4731-bf8e-47437bdb85cf",
   "metadata": {},
   "outputs": [
    {
     "name": "stdout",
     "output_type": "stream",
     "text": [
      "a1\n",
      "b1\n",
      "c1\n"
     ]
    }
   ],
   "source": [
    "def print_function(A):\n",
    "    for a in A:\n",
    "        print(a + '1')\n",
    "print_function(['a', 'b', 'c'])"
   ]
  },
  {
   "cell_type": "code",
   "execution_count": null,
   "id": "4b2877a6-8d94-44e1-8401-fcd1dec80f54",
   "metadata": {},
   "outputs": [],
   "source": []
  }
 ],
 "metadata": {
  "kernelspec": {
   "display_name": "Python [conda env:base] *",
   "language": "python",
   "name": "conda-base-py"
  },
  "language_info": {
   "codemirror_mode": {
    "name": "ipython",
    "version": 3
   },
   "file_extension": ".py",
   "mimetype": "text/x-python",
   "name": "python",
   "nbconvert_exporter": "python",
   "pygments_lexer": "ipython3",
   "version": "3.12.7"
  }
 },
 "nbformat": 4,
 "nbformat_minor": 5
}
