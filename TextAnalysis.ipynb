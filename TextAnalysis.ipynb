{
 "cells": [
  {
   "cell_type": "markdown",
   "id": "0560bcc1-c712-4c23-95ff-1e7ca5d120e7",
   "metadata": {},
   "source": [
    "# Analisis de texto \n",
    "\n",
    "Hace referencia al proceso de extracción de información significativa y conocimientos a partir de datos textuales."
   ]
  },
  {
   "cell_type": "markdown",
   "id": "4f2d19cd-bd02-4d5c-9fa9-6a27c7642681",
   "metadata": {},
   "source": [
    "Hagamos un ejercicio del muy real, imagine que usted esta analizando los feedback de los consumidores sobre un producto. usted tiene mucha dataset en forma de **strings**, y usted quiere extraer la informacion util. con las siguientes tareas \n",
    "\n",
    "task1: los String los quiere convertir todos en minuscula para no preocuparse del formato sino solo en el contenido \n",
    "\n",
    "task2: Identificar la frecuencia de las palabras para identificar temas claves. Analizando la frecuencia de las palabras puede obtener informacion sobre los problemas comunmente planteados por el consumidor\n",
    "\n",
    "task3: Identificar la frecuencia de palabras claves identificadas por usted que pueden llegar a ser significantes por ejemplo **Fiable** "
   ]
  },
  {
   "cell_type": "markdown",
   "id": "4954f089-4a01-46f1-943e-3ae945f8c593",
   "metadata": {},
   "source": [
    "## Parte A "
   ]
  },
  {
   "cell_type": "markdown",
   "id": "d683b095-93af-4a76-8d26-2c92ecab692a",
   "metadata": {},
   "source": [
    "### Step 1: Defina el String \n",
    "\n",
    "esta es su cadena string = \"Lorem ipsum dolor! diam amet, consetetur Lorem magna. sed diam nonumy eirmod tempor. diam et labore? et diam magna. et diam amet.\""
   ]
  },
  {
   "cell_type": "code",
   "execution_count": 16,
   "id": "b7ccede2-446b-45cb-9b8a-f64a89b32c2c",
   "metadata": {},
   "outputs": [
    {
     "data": {
      "text/plain": [
       "str"
      ]
     },
     "execution_count": 16,
     "metadata": {},
     "output_type": "execute_result"
    }
   ],
   "source": [
    "# Defina su cadena String como una variable \n",
    "\n",
    "givenstring=\"Lorem ipsum dolor! diam amet, consetetur Lorem magna. sed diam nonumy eirmod tempor. diam et labore? et diam magna. et diam amet.\"\n",
    "type(givenstring)"
   ]
  },
  {
   "cell_type": "markdown",
   "id": "0c454a3c-39ed-4225-aebe-a9e7780072ee",
   "metadata": {},
   "source": [
    "Para lograr las tareas mencionadas requerira crear una clase con tres metodos"
   ]
  },
  {
   "cell_type": "markdown",
   "id": "85dd8eca-fe8a-4a18-8686-68d4460f02bb",
   "metadata": {},
   "source": [
    "### step 2: defina la clase y sus atributos \n",
    " 1. cree la clase y llamela TextAnalyzer\n",
    " 2. Defina el constructor '_init__'  "
   ]
  },
  {
   "cell_type": "code",
   "execution_count": null,
   "id": "cb31ae3a-e92b-4b07-990b-e60c5f5f792d",
   "metadata": {},
   "outputs": [],
   "source": [
    "class TextAnalyzer(object):\n",
    "    def _init_(self, tex):\n",
    "    "
   ]
  },
  {
   "cell_type": "markdown",
   "id": "d661db3f-9f21-4d9f-89ea-de0377b64c97",
   "metadata": {},
   "source": [
    "### step 3: implemente el codigo para formatear todo el texto en minusculas \n",
    "\n",
    "dentro del constructor convierta el argumento a minusculas utilizando el motodo lower(). \n",
    "Elimine cualquier signo de puntuacion utilizando el metodo replace()\n",
    "Finalmente, asigne texto formateado a un atributo nuevo llamado fmtTxT"
   ]
  },
  {
   "cell_type": "code",
   "execution_count": null,
   "id": "255827e9-dd22-45ff-adc3-3f20b9797586",
   "metadata": {},
   "outputs": [],
   "source": [
    "class TextAnalyzer(object):\n",
    "    def _init_(self, tex):\n",
    "        formattedText = text.replace('.','').replace('!','').replace('?','').replace(',','')\n",
    "        formattedText = formattedText.lower()\n",
    "        self.fmtText = formattedText\n",
    "    "
   ]
  },
  {
   "cell_type": "markdown",
   "id": "4a2537e9-3274-4d26-9476-0c3d462a0515",
   "metadata": {},
   "source": [
    "### Step 4: Implementar un codigo para contar la frecuencia de todas las palabras \n",
    "\n",
    "En este paso, implementará el método freqAll() con los siguientes parámetros:\n",
    "Divida el atributo fmtText en palabras individuales utilizando el método split().\n",
    "Cree un diccionario vacío para almacenar la frecuencia de las palabras.\n",
    "Recorrer la lista de palabras y actualizar el diccionario de frecuencias en consecuencia.\n",
    "Utilice el método count para contar las ocurrencias.\n",
    "Devuelve el diccionario de frecuencias.\n",
    "Actualizar la clase TextAnalyzer anterior con los puntos mencionados anteriormente.\n",
    "\n"
   ]
  },
  {
   "cell_type": "code",
   "execution_count": null,
   "id": "bb7288cf-d6c2-4584-ba96-37c26f271941",
   "metadata": {},
   "outputs": [],
   "source": [
    "class TextAnalyzer(object):\n",
    "    def _init_(self, tex):\n",
    "        formattedText = text.replace('.','').replace('!','').replace('?','').replace(',','')\n",
    "        formattedText = formattedText.lower()\n",
    "        self.fmtText = formattedText\n",
    "    def freqAll(self):\n",
    "        wordList = self.fmtText.split(' ')\n",
    "        freqMap = {}\n",
    "        for word in set(wordList): \n",
    "            freqMap[word] = wordList.count(word)\n",
    "        return freqMap"
   ]
  },
  {
   "cell_type": "markdown",
   "id": "51f67ac0-0918-4f7d-8c36-1d5c9eda427a",
   "metadata": {},
   "source": [
    "### Step 5: implemente el codigo para contar las palabras especificas\n",
    "En el paso 5, tienes que implementar el método freqOf(word) que toma una palabra como argumento:\n",
    "\n",
    "Crea un método y pásale la palabra que necesita ser encontrada.\n",
    "Obtener el método freqAll para buscar count y comprobar si esa palabra está en la lista.\n",
    "Devuelve el recuento. Si la palabra no se encuentra, la cuenta devuelta es 0."
   ]
  },
  {
   "cell_type": "code",
   "execution_count": 39,
   "id": "edcd4f15-2a02-435d-9027-a7fd056f6284",
   "metadata": {},
   "outputs": [],
   "source": [
    "class TextAnalyzer(object):\n",
    "    \n",
    "    def __init__ (self, text):\n",
    "        # remove punctuation\n",
    "        formattedText = text.replace('.','').replace('!','').replace('?','').replace(',','')\n",
    "        \n",
    "        # make text lowercase\n",
    "        formattedText = formattedText.lower()\n",
    "        \n",
    "        self.fmtText = formattedText\n",
    "        \n",
    "    def freqAll(self):        \n",
    "        # split text into words\n",
    "        wordList = self.fmtText.split(' ')\n",
    "        \n",
    "        # Create dictionary\n",
    "        freqMap = {}\n",
    "        for word in set(wordList): # use set to remove duplicates in list\n",
    "            freqMap[word] = wordList.count(word)\n",
    "        \n",
    "        return freqMap\n",
    "    \n",
    "    def freqOf(self,word):\n",
    "        # get frequency map\n",
    "        freqDict = self.freqAll()\n",
    "        \n",
    "        if word in freqDict:\n",
    "            return freqDict[word]\n",
    "        else:\n",
    "            return 0"
   ]
  },
  {
   "cell_type": "markdown",
   "id": "6d27032e-b15f-42a2-9fac-f81f15dd0634",
   "metadata": {},
   "source": [
    "## Parte B "
   ]
  },
  {
   "cell_type": "markdown",
   "id": "9c48ab4e-f515-4aa1-a09b-902d6bff64ed",
   "metadata": {},
   "source": [
    "En la Parte B, llamarás a las funciones creadas en la Parte A, permitiendo que las funciones se ejecuten y generen salida."
   ]
  },
  {
   "cell_type": "code",
   "execution_count": 41,
   "id": "2b17e255-6d03-477e-969a-48d6a36165e3",
   "metadata": {},
   "outputs": [],
   "source": [
    "analyzed = TextAnalyzer(givenstring)"
   ]
  },
  {
   "cell_type": "code",
   "execution_count": 43,
   "id": "abf6c497-1540-4e9c-8059-e45c8110276a",
   "metadata": {},
   "outputs": [
    {
     "name": "stdout",
     "output_type": "stream",
     "text": [
      "Formatted Text: lorem ipsum dolor diam amet consetetur lorem magna sed diam nonumy eirmod tempor diam et labore et diam magna et diam amet\n"
     ]
    }
   ],
   "source": [
    "print(\"Formatted Text:\", analyzed.fmtText)"
   ]
  },
  {
   "cell_type": "code",
   "execution_count": 45,
   "id": "eca771dd-e3c0-497d-a767-10631567810d",
   "metadata": {},
   "outputs": [
    {
     "name": "stdout",
     "output_type": "stream",
     "text": [
      "{'et': 3, 'sed': 1, 'nonumy': 1, 'tempor': 1, 'ipsum': 1, 'amet': 2, 'eirmod': 1, 'consetetur': 1, 'diam': 5, 'labore': 1, 'magna': 2, 'dolor': 1, 'lorem': 2}\n"
     ]
    }
   ],
   "source": [
    "freqMap = analyzed.freqAll()\n",
    "print(freqMap)"
   ]
  },
  {
   "cell_type": "code",
   "execution_count": 47,
   "id": "57e38ab4-2889-4494-88e6-c04a9027b6c0",
   "metadata": {},
   "outputs": [
    {
     "name": "stdout",
     "output_type": "stream",
     "text": [
      "The word lorem appears 2 times.\n"
     ]
    }
   ],
   "source": [
    "word = \"lorem\"\n",
    "frequency = analyzed.freqOf(word)\n",
    "print(\"The word\",word,\"appears\",frequency,\"times.\")"
   ]
  }
 ],
 "metadata": {
  "kernelspec": {
   "display_name": "Python [conda env:base] *",
   "language": "python",
   "name": "conda-base-py"
  },
  "language_info": {
   "codemirror_mode": {
    "name": "ipython",
    "version": 3
   },
   "file_extension": ".py",
   "mimetype": "text/x-python",
   "name": "python",
   "nbconvert_exporter": "python",
   "pygments_lexer": "ipython3",
   "version": "3.12.7"
  }
 },
 "nbformat": 4,
 "nbformat_minor": 5
}
